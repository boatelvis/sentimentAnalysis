{
 "cells": [
  {
   "cell_type": "code",
   "execution_count": 9,
   "id": "1d1f9b93",
   "metadata": {},
   "outputs": [],
   "source": [
    "# Importing the required modules\n",
    "\n",
    "import glob\n",
    "import pandas as pd"
   ]
  },
  {
   "cell_type": "code",
   "execution_count": 10,
   "id": "04cee75b",
   "metadata": {},
   "outputs": [
    {
     "name": "stderr",
     "output_type": "stream",
     "text": [
      "C:\\Users\\ACER\\AppData\\Local\\Temp\\ipykernel_9584\\3453737659.py:20: FutureWarning: The frame.append method is deprecated and will be removed from pandas in a future version. Use pandas.concat instead.\n",
      "  excl_merged = excl_merged.append(\n"
     ]
    }
   ],
   "source": [
    "# specifying the path to the csv files\n",
    "path = r\"C:\\Users\\ACER\\Desktop\\tweetsssss\"\n",
    "\n",
    "# csv files in the path\n",
    "file_list = glob.glob(path + \"/*.xlsx\")\n",
    "\n",
    "# list of the files we want to merge\n",
    "# pd.read_excel(file_path) reads the excel\n",
    "# data into pandas dataframe\n",
    "excl_list = []\n",
    "\n",
    "for file in file_list:\n",
    "    excl_list.append(pd.read_excel(file))\n",
    "\n",
    "# create a new dataframe to store the \n",
    "# merged files\n",
    "excl_merged = pd.DataFrame()\n",
    "\n",
    "for excl_file in excl_list:\n",
    "    excl_merged = excl_merged.append(\n",
    "    excl_file, ignore_index=True)\n",
    "\n",
    "# export the dataframe into excel file\n",
    "excl_merged.to_excel('twitter_tweets.xlsx', index=False)"
   ]
  },
  {
   "cell_type": "code",
   "execution_count": null,
   "id": "fcbf2875",
   "metadata": {},
   "outputs": [],
   "source": []
  }
 ],
 "metadata": {
  "kernelspec": {
   "display_name": "Python 3 (ipykernel)",
   "language": "python",
   "name": "python3"
  },
  "language_info": {
   "codemirror_mode": {
    "name": "ipython",
    "version": 3
   },
   "file_extension": ".py",
   "mimetype": "text/x-python",
   "name": "python",
   "nbconvert_exporter": "python",
   "pygments_lexer": "ipython3",
   "version": "3.9.12"
  }
 },
 "nbformat": 4,
 "nbformat_minor": 5
}
